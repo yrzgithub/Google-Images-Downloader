{
 "cells": [
  {
   "cell_type": "code",
   "execution_count": 1,
   "id": "6d2c7518",
   "metadata": {},
   "outputs": [],
   "source": [
    "#imports\n",
    "\n",
    "from bs4 import BeautifulSoup as Soup\n",
    "from requests import get\n",
    "import cv2\n",
    "from skimage import io\n",
    "import os"
   ]
  },
  {
   "cell_type": "code",
   "execution_count": 2,
   "id": "56202ea3",
   "metadata": {},
   "outputs": [
    {
     "name": "stdout",
     "output_type": "stream",
     "text": [
      "Enter the title : Life\n"
     ]
    }
   ],
   "source": [
    "search = input(\"Enter the title : \").title()"
   ]
  },
  {
   "cell_type": "code",
   "execution_count": 3,
   "id": "302a11cf",
   "metadata": {},
   "outputs": [
    {
     "data": {
      "text/plain": [
       "'C:\\\\Users\\\\seenu\\\\Jupyter Notebook Files'"
      ]
     },
     "execution_count": 3,
     "metadata": {},
     "output_type": "execute_result"
    }
   ],
   "source": [
    "cwd = os.getcwd()\n",
    "cwd"
   ]
  },
  {
   "cell_type": "code",
   "execution_count": 4,
   "id": "43cff04a",
   "metadata": {},
   "outputs": [
    {
     "name": "stdout",
     "output_type": "stream",
     "text": [
      "Directory created\n"
     ]
    }
   ],
   "source": [
    "folder_path = os.path.join(cwd,search)\n",
    "\n",
    "if os.path.isdir(folder_path):\n",
    "    print(\"Directory already exist\")\n",
    "\n",
    "else:\n",
    "    os.mkdir(folder_path)\n",
    "    print(\"Directory created\")"
   ]
  },
  {
   "cell_type": "code",
   "execution_count": 5,
   "id": "5ca0e4fa",
   "metadata": {},
   "outputs": [
    {
     "name": "stdout",
     "output_type": "stream",
     "text": [
      "https://www.google.com/images?q=Life\n"
     ]
    }
   ],
   "source": [
    "url = \"https://www.google.com/images?q=\" + search\n",
    "print(url)\n",
    "page = get(url)\n",
    "soup = Soup(page.text)"
   ]
  },
  {
   "cell_type": "code",
   "execution_count": 6,
   "id": "285aa237",
   "metadata": {},
   "outputs": [],
   "source": [
    "imgs = soup.find_all(\"img\")[1:]"
   ]
  },
  {
   "cell_type": "code",
   "execution_count": 7,
   "id": "2c3bebe3",
   "metadata": {},
   "outputs": [
    {
     "name": "stdout",
     "output_type": "stream",
     "text": [
      "C:\\Users\\seenu\\Jupyter Notebook Files\\Life\\0.jpg\n",
      "C:\\Users\\seenu\\Jupyter Notebook Files\\Life\\1.jpg\n",
      "C:\\Users\\seenu\\Jupyter Notebook Files\\Life\\2.jpg\n",
      "C:\\Users\\seenu\\Jupyter Notebook Files\\Life\\3.jpg\n",
      "C:\\Users\\seenu\\Jupyter Notebook Files\\Life\\4.jpg\n",
      "C:\\Users\\seenu\\Jupyter Notebook Files\\Life\\5.jpg\n",
      "C:\\Users\\seenu\\Jupyter Notebook Files\\Life\\6.jpg\n",
      "C:\\Users\\seenu\\Jupyter Notebook Files\\Life\\7.jpg\n",
      "C:\\Users\\seenu\\Jupyter Notebook Files\\Life\\8.jpg\n",
      "C:\\Users\\seenu\\Jupyter Notebook Files\\Life\\9.jpg\n",
      "C:\\Users\\seenu\\Jupyter Notebook Files\\Life\\10.jpg\n",
      "C:\\Users\\seenu\\Jupyter Notebook Files\\Life\\11.jpg\n",
      "C:\\Users\\seenu\\Jupyter Notebook Files\\Life\\12.jpg\n",
      "C:\\Users\\seenu\\Jupyter Notebook Files\\Life\\13.jpg\n",
      "C:\\Users\\seenu\\Jupyter Notebook Files\\Life\\14.jpg\n",
      "C:\\Users\\seenu\\Jupyter Notebook Files\\Life\\15.jpg\n",
      "C:\\Users\\seenu\\Jupyter Notebook Files\\Life\\16.jpg\n",
      "C:\\Users\\seenu\\Jupyter Notebook Files\\Life\\17.jpg\n",
      "C:\\Users\\seenu\\Jupyter Notebook Files\\Life\\18.jpg\n",
      "C:\\Users\\seenu\\Jupyter Notebook Files\\Life\\19.jpg\n"
     ]
    }
   ],
   "source": [
    "for index,img in enumerate(imgs):\n",
    "    link = img.get(\"src\")\n",
    "    image = io.imread(link)\n",
    "    h,w,_ = image.shape\n",
    "    image = cv2.resize(image,(w*5,h*5))\n",
    "    image = cv2.cvtColor(image,cv2.COLOR_BGR2RGB)\n",
    "    cv2.imshow(search,image)\n",
    "    im_path = os.path.join(folder_path,str(index)+\".jpg\")\n",
    "    print(im_path)\n",
    "    cv2.imwrite(im_path,image)\n",
    "    if cv2.waitKey(100)==ord(\"q\"):\n",
    "        break\n",
    "        \n",
    "cv2.destroyAllWindows()"
   ]
  },
  {
   "cell_type": "code",
   "execution_count": null,
   "id": "3ee7b0ee",
   "metadata": {},
   "outputs": [],
   "source": []
  }
 ],
 "metadata": {
  "kernelspec": {
   "display_name": "Python 3 (ipykernel)",
   "language": "python",
   "name": "python3"
  },
  "language_info": {
   "codemirror_mode": {
    "name": "ipython",
    "version": 3
   },
   "file_extension": ".py",
   "mimetype": "text/x-python",
   "name": "python",
   "nbconvert_exporter": "python",
   "pygments_lexer": "ipython3",
   "version": "3.9.7"
  }
 },
 "nbformat": 4,
 "nbformat_minor": 5
}
